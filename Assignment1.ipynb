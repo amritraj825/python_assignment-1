{
 "cells": [
  {
   "cell_type": "markdown",
   "metadata": {
    "id": "_Qlt3AqPdzcP"
   },
   "source": [
    "# 1. In the below elements which of them are values or an expression? eg:- values can be integer or string and expressions will be mathematical operators.\n",
    "\n",
    "*, 'hello', -87.8, -, /, +.\\, 6\n",
    "\n",
    "|Values|Expression|\n",
    "|:-:|:-:|\n",
    "| 'hello' |*|\n",
    "| -87.8 |-|\n",
    "| 6 |/|\n",
    "|  |+|\n"
   ]
  },
  {
   "cell_type": "markdown",
   "metadata": {
    "id": "iCWsmLJwfF8Q"
   },
   "source": [
    "# 2. What is the difference between string and variable?\n",
    "\n",
    "|Variable|String|\n",
    "|:-:|:-:|\n",
    "| Variable is a element which stores the information |It is information that will be stored in a Variable.|\n",
    "| Represent any value|Represent text type data|\n",
    "| Usually a alphabet or group of alphabets |It can be anything|\n"
   ]
  },
  {
   "cell_type": "markdown",
   "metadata": {
    "id": "rpvEo93jhQSN"
   },
   "source": [
    "# 3. Describe three different data types.\n",
    "1. Integers – This value is represented by int class. It contains positive or negative whole numbers (without fraction or decimal). In Python there is no limit to how long an integer value can be.\n",
    "\n",
    "\n",
    "2. Float – This value is represented by float class. It is a real number with floating point representation. It is specified by a decimal point. Optionally, the character e or E followed by a positive or negative integer may be appended to specify scientific notation.\n",
    "\n",
    "\n",
    "3. Complex Numbers – Complex number is represented by complex class. It is specified as (real part) + (imaginary part)j. For example – 2+3j\n",
    "\n",
    "4. Boolean - Data type with one of the two built-in values, True or False. Boolean objects that are equal to True are truthy (true), and those equal to False are falsy (false). But non-Boolean objects can be evaluated in Boolean context as well and determined to be true or false. It is denoted by the class bool."
   ]
  },
  {
   "cell_type": "markdown",
   "metadata": {
    "id": "7RFhmax1ijQX"
   },
   "source": [
    "# 4. What is an expression made up of? What do all expressions do?\n",
    "\n",
    "An expression is a combination of operators and operands that is interpreted to produce some other value. \n",
    "It is used for to perform various operation in program and to mininze the size of the code."
   ]
  },
  {
   "cell_type": "markdown",
   "metadata": {
    "id": "6x-CP1A4jhUd"
   },
   "source": [
    "# 5. This assignment statements, like spam = 10. What is the difference between an expression and a statement?\n",
    "\n",
    "-In the above example the spam(int datatype) is a variable which stores a \"value\" 10.\n",
    "\n",
    "-An “expression” is a combination of values and functions that are combined and interpreted by the compiler to create a new value, as opposed to a “statement” which is just a standalone unit of execution and doesn't return anything.\n"
   ]
  },
  {
   "cell_type": "markdown",
   "metadata": {
    "id": "MkVuW_dqkN_2"
   },
   "source": [
    "# 6. After running the following code, what does the variable bacon contain?\n",
    "bacon = 22\n",
    "\n",
    "bacon + 1\n",
    "\n",
    "The bacon variable will conatain value = 23"
   ]
  },
  {
   "cell_type": "markdown",
   "metadata": {
    "id": "WzeWWl2IkkXC"
   },
   "source": [
    "# 7. What should the values of the following two terms be?\n",
    "'spam' + 'spamspam'-> spamspamspam\n",
    "\n",
    "'spam' * 3 ->  spamspamspam\n"
   ]
  },
  {
   "cell_type": "markdown",
   "metadata": {
    "id": "K6_HD_dsk8vm"
   },
   "source": [
    "# 8. Why is eggs a valid variable name while 100 is invalid?\n",
    "\n",
    "Variable names can not started with a number."
   ]
  },
  {
   "cell_type": "markdown",
   "metadata": {
    "id": "ocUp2uMmlLTK"
   },
   "source": [
    "#9. What three functions can be used to get the integer, floating-point number, or string version of a value?\n",
    "\n",
    "\n",
    "The int() , float() , and str( ) functions will evaluate to the integer, floating-point number, and string versions of the value passed to them."
   ]
  },
  {
   "cell_type": "markdown",
   "metadata": {
    "id": "UeE9MFg8lZ6n"
   },
   "source": [
    "# 10. Why does this expression cause an error? How can you fix it?\n",
    "'I have eaten ' + 99 + ' burritos.'\n",
    "\n",
    "\n",
    "Fixed Code:\n",
    "\n",
    "'I have eaten ' + '99' + ' burritos.'\n"
   ]
  }
 ],
 "metadata": {
  "colab": {
   "authorship_tag": "ABX9TyNcfyfKrulsHLHVAS1ZgHXw",
   "include_colab_link": true,
   "provenance": []
  },
  "kernelspec": {
   "display_name": "Python 3",
   "language": "python",
   "name": "python3"
  },
  "language_info": {
   "codemirror_mode": {
    "name": "ipython",
    "version": 3
   },
   "file_extension": ".py",
   "mimetype": "text/x-python",
   "name": "python",
   "nbconvert_exporter": "python",
   "pygments_lexer": "ipython3",
   "version": "3.8.8"
  }
 },
 "nbformat": 4,
 "nbformat_minor": 1
}
